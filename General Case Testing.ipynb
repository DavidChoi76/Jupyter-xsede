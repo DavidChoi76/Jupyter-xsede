{
 "cells": [
  {
   "cell_type": "code",
   "execution_count": 5,
   "metadata": {},
   "outputs": [],
   "source": [
    "import pysumma as ps\n",
    "import pysumma.hydroshare_utils as utils\n",
    "from hs_restclient import HydroShare\n",
    "import shutil, os\n",
    "import subprocess"
   ]
  },
  {
   "cell_type": "code",
   "execution_count": 6,
   "metadata": {},
   "outputs": [
    {
     "name": "stdout",
     "output_type": "stream",
     "text": [
      "Username: carnivalbug\n",
      "Password for carnivalbug: ········\n"
     ]
    },
    {
     "data": {
      "text/plain": [
       "'SummaModel_ReynoldsAspenStand_StomatalResistance_sopron'"
      ]
     },
     "execution_count": 6,
     "metadata": {},
     "output_type": "execute_result"
    }
   ],
   "source": [
    "resource_id = '1f3f310af8364d2aa3e6a9459152a21c'\n",
    "instance = utils.download_model_instance(resource_id)\n",
    "instance"
   ]
  },
  {
   "cell_type": "code",
   "execution_count": 7,
   "metadata": {},
   "outputs": [
    {
     "name": "stdout",
     "output_type": "stream",
     "text": [
      "TestCases installed\r\n"
     ]
    }
   ],
   "source": [
    "!cd SummaModel_ReynoldsAspenStand_StomatalResistance_sopron/; chmod +x ./installTestCases_local.sh\n",
    "!cd SummaModel_ReynoldsAspenStand_StomatalResistance_sopron/; ./installTestCases_local.sh"
   ]
  },
  {
   "cell_type": "code",
   "execution_count": 8,
   "metadata": {},
   "outputs": [],
   "source": [
    "import netCDF4 as nc\n",
    "name = 'SummaModel_ReynoldsAspenStand_StomatalResistance_sopron/settings/summa_zParamTrial_riparianAspen.nc'\n",
    "param_trial = nc.Dataset(name, \"w\", format=\"NETCDF3_CLASSIC\")\n",
    "param_trial.createDimension(\"hru\", 1)\n",
    "param_trial.close()"
   ]
  },
  {
   "cell_type": "code",
   "execution_count": 9,
   "metadata": {},
   "outputs": [],
   "source": [
    "import os\n",
    "instance = 'SummaModel_ReynoldsAspenStand_StomatalResistance_sopron'\n",
    "file_manager = os.getcwd() + '/' + instance + '/settings/summa_fileManager_riparianAspenSimpleResistance.txt'"
   ]
  },
  {
   "cell_type": "code",
   "execution_count": 10,
   "metadata": {},
   "outputs": [],
   "source": [
    "executable = \"/code/bin/summa.exe\""
   ]
  },
  {
   "cell_type": "code",
   "execution_count": 11,
   "metadata": {},
   "outputs": [],
   "source": [
    "import pysumma as ps\n",
    "S = ps.Simulation(executable, file_manager)"
   ]
  },
  {
   "cell_type": "code",
   "execution_count": null,
   "metadata": {},
   "outputs": [],
   "source": []
  }
 ],
 "metadata": {
  "kernelspec": {
   "display_name": "Python 3",
   "language": "python",
   "name": "python3"
  },
  "language_info": {
   "codemirror_mode": {
    "name": "ipython",
    "version": 3
   },
   "file_extension": ".py",
   "mimetype": "text/x-python",
   "name": "python",
   "nbconvert_exporter": "python",
   "pygments_lexer": "ipython3",
   "version": "3.7.3"
  }
 },
 "nbformat": 4,
 "nbformat_minor": 2
}
