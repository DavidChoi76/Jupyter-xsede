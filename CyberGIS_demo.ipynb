{
 "cells": [
  {
   "cell_type": "code",
   "execution_count": 1,
   "metadata": {},
   "outputs": [
    {
     "name": "stdout",
     "output_type": "stream",
     "text": [
      "Cloning into '/tmp/cybergis'...\n",
      "remote: Enumerating objects: 54, done.\u001b[K\n",
      "remote: Counting objects: 100% (54/54), done.\u001b[K\n",
      "remote: Compressing objects: 100% (34/34), done.\u001b[K\n",
      "remote: Total 1229 (delta 36), reused 36 (delta 20), pack-reused 1175\u001b[K\n",
      "Receiving objects: 100% (1229/1229), 22.01 MiB | 15.67 MiB/s, done.\n",
      "Resolving deltas: 100% (849/849), done.\n"
     ]
    }
   ],
   "source": [
    "# install latest dev of CyberGIS library\n",
    "!rm -rf /tmp/cybergis && \\\n",
    "    rm -rf /opt/conda/envs/hydro-py3-new/lib/python3.7/site-packages/cybergis && \\\n",
    "    git clone https://github.com/cybergis/Jupyter-xsede.git --branch fz_general /tmp/cybergis && \\\n",
    "    cp -r /tmp/cybergis/cybergis /opt/conda/envs/hydro-py3-new/lib/python3.7/site-packages && \\\n",
    "    cd ~ && \\\n",
    "    rm -rf /tmp/cybergis \\\n",
    "    #rm -rf /home/jovyan/work/Downloads/1f3f310af8364d2aa3e6a9459152a21c && \\\n",
    "    #cd /home/jovyan/work/workspace/ && rm -rf * && \\\n",
    "    echo CyberGIS installed. Please restart Kernel."
   ]
  },
  {
   "cell_type": "code",
   "execution_count": 1,
   "metadata": {},
   "outputs": [],
   "source": [
    "import os\n",
    "import sys\n",
    "import logging\n",
    "os.environ[\"USER\"]=\"\"\n",
    "from cybergis.general import *\n",
    "logger.setLevel(logging.INFO)"
   ]
  },
  {
   "cell_type": "markdown",
   "metadata": {},
   "source": [
    "### Unzip model package"
   ]
  },
  {
   "cell_type": "code",
   "execution_count": 2,
   "metadata": {},
   "outputs": [
    {
     "name": "stdout",
     "output_type": "stream",
     "text": [
      "Archive:  SummaModel_ReynoldsAspenStand_StomatalResistance_sopron.zip\n",
      "  inflating: SummaModel_ReynoldsAspenStand_StomatalResistance_sopron/data/forcingData/forcing_above_aspen.nc  \n",
      "  inflating: SummaModel_ReynoldsAspenStand_StomatalResistance_sopron/data/reynolds_geojson_latlon.geojson  \n",
      "  inflating: SummaModel_ReynoldsAspenStand_StomatalResistance_sopron/data/validationData/ReynoldsCreek_eddyFlux.nc  \n",
      "  inflating: SummaModel_ReynoldsAspenStand_StomatalResistance_sopron/installTestCases_local.sh  \n",
      "  inflating: SummaModel_ReynoldsAspenStand_StomatalResistance_sopron/settings/GENPARM.TBL  \n",
      "  inflating: SummaModel_ReynoldsAspenStand_StomatalResistance_sopron/settings/meta/dos2unix.sh  \n",
      "  inflating: SummaModel_ReynoldsAspenStand_StomatalResistance_sopron/settings/meta/Model_Output.txt  \n",
      "  inflating: SummaModel_ReynoldsAspenStand_StomatalResistance_sopron/settings/meta/summa_zBasinModelVarMeta.txt  \n",
      "  inflating: SummaModel_ReynoldsAspenStand_StomatalResistance_sopron/settings/meta/summa_zBasinParamMeta.txt  \n",
      "  inflating: SummaModel_ReynoldsAspenStand_StomatalResistance_sopron/settings/meta/summa_zCategoryMeta.txt  \n",
      "  inflating: SummaModel_ReynoldsAspenStand_StomatalResistance_sopron/settings/meta/summa_zForceMeta.txt  \n",
      "  inflating: SummaModel_ReynoldsAspenStand_StomatalResistance_sopron/settings/meta/summa_zLocalAttributeMeta.txt  \n",
      "  inflating: SummaModel_ReynoldsAspenStand_StomatalResistance_sopron/settings/meta/summa_zLocalModelIndexMeta.txt  \n",
      "  inflating: SummaModel_ReynoldsAspenStand_StomatalResistance_sopron/settings/meta/summa_zLocalModelVarMeta.txt  \n",
      "  inflating: SummaModel_ReynoldsAspenStand_StomatalResistance_sopron/settings/meta/summa_zLocalParamMeta.txt  \n",
      "  inflating: SummaModel_ReynoldsAspenStand_StomatalResistance_sopron/settings/meta/summa_zModelIndexMeta.txt  \n",
      "  inflating: SummaModel_ReynoldsAspenStand_StomatalResistance_sopron/settings/meta/summa_zParamMeta.txt  \n",
      "  inflating: SummaModel_ReynoldsAspenStand_StomatalResistance_sopron/settings/meta/summa_zTimeMeta.txt  \n",
      "  inflating: SummaModel_ReynoldsAspenStand_StomatalResistance_sopron/settings/meta/var_lookup.f90  \n",
      "  inflating: SummaModel_ReynoldsAspenStand_StomatalResistance_sopron/settings/MPTABLE.TBL  \n",
      "  inflating: SummaModel_ReynoldsAspenStand_StomatalResistance_sopron/settings/SOILPARM.TBL  \n",
      "  inflating: SummaModel_ReynoldsAspenStand_StomatalResistance_sopron/settings/summa_fileManager_riparianAspenSimpleResistance.txt  \n",
      "  inflating: SummaModel_ReynoldsAspenStand_StomatalResistance_sopron/settings/summa_zBasinParamInfo.txt  \n",
      "  inflating: SummaModel_ReynoldsAspenStand_StomatalResistance_sopron/settings/summa_zDecisions_riparianAspenSimpleResistance.txt  \n",
      "  inflating: SummaModel_ReynoldsAspenStand_StomatalResistance_sopron/settings/summa_zForcingFileList_riparianAspen.txt  \n",
      "  inflating: SummaModel_ReynoldsAspenStand_StomatalResistance_sopron/settings/summa_zForcingInfo_riparianAspen.txt  \n",
      "  inflating: SummaModel_ReynoldsAspenStand_StomatalResistance_sopron/settings/summa_zInitialCond.nc  \n",
      "  inflating: SummaModel_ReynoldsAspenStand_StomatalResistance_sopron/settings/summa_zLocalAttributes_riparianAspen.nc  \n",
      "  inflating: SummaModel_ReynoldsAspenStand_StomatalResistance_sopron/settings/summa_zLocalParamInfo.txt  \n",
      "  inflating: SummaModel_ReynoldsAspenStand_StomatalResistance_sopron/settings/summa_zParamTrial_riparianAspen.nc  \n",
      "  inflating: SummaModel_ReynoldsAspenStand_StomatalResistance_sopron/settings/VEGPARM.TBL  \n"
     ]
    }
   ],
   "source": [
    "#Unzip model file\n",
    "resource_id = '1f3f310af8364d2aa3e6a9459152a21c'\n",
    "model_folder_name = \"SummaModel_ReynoldsAspenStand_StomatalResistance_sopron\"\n",
    "#instance = utils.download_model_instance(resource_id)\n",
    "content_folder = \"./Downloads/{}/{}/data/contents\".format(resource_id, resource_id)\n",
    "model_source_folder_path = os.path.abspath(os.path.join(content_folder, model_folder_name))\n",
    "file_manger_rel_path = \"settings/summa_fileManager_riparianAspenSimpleResistance.txt\"\n",
    "!cd {content_folder} && unzip -o {model_folder_name}.zip"
   ]
  },
  {
   "cell_type": "markdown",
   "metadata": {},
   "source": [
    "### \"Install\" SUMMA model on Jupyter server (fix broken path in summa file_manager)"
   ]
  },
  {
   "cell_type": "code",
   "execution_count": 3,
   "metadata": {},
   "outputs": [
    {
     "name": "stdout",
     "output_type": "stream",
     "text": [
      "TestCases installed\r\n"
     ]
    }
   ],
   "source": [
    "!cd {model_source_folder_path} && chmod +x ./installTestCases_local.sh\n",
    "!cd {model_source_folder_path} && ./installTestCases_local.sh"
   ]
  },
  {
   "cell_type": "markdown",
   "metadata": {},
   "source": [
    "### Use PySumma to configure model parameters"
   ]
  },
  {
   "cell_type": "code",
   "execution_count": 4,
   "metadata": {
    "scrolled": false
   },
   "outputs": [
    {
     "name": "stdout",
     "output_type": "stream",
     "text": [
      "Executable path: \n",
      "Simulation status: Initialized\n",
      "File manager configuration:\n",
      "'SUMMA_FILE_MANAGER_V1.0'    ! filemanager_version\n",
      "'/home/jovyan/work/Downloads/1f3f310af8364d2aa3e6a9459152a21c/1f3f310af8364d2aa3e6a9459152a21c/data/contents/SummaModel_ReynoldsAspenStand_StomatalResistance_sopron/settings/'    ! settings_path\n",
      "'/home/jovyan/work/Downloads/1f3f310af8364d2aa3e6a9459152a21c/1f3f310af8364d2aa3e6a9459152a21c/data/contents/SummaModel_ReynoldsAspenStand_StomatalResistance_sopron/data/forcingData/'    ! input_path\n",
      "'/home/jovyan/work/Downloads/1f3f310af8364d2aa3e6a9459152a21c/1f3f310af8364d2aa3e6a9459152a21c/data/contents/SummaModel_ReynoldsAspenStand_StomatalResistance_sopron/output/'    ! output_path\n",
      "'summa_zDecisions_riparianAspenSimpleResistance.txt'    ! decisions_path\n",
      "'meta/summa_zTimeMeta.txt'    ! meta_time\n",
      "'meta/summa_zLocalAttributeMeta.txt'    ! meta_attr\n",
      "'meta/summa_zCategoryMeta.txt'    ! meta_type\n",
      "'meta/summa_zForceMeta.txt'    ! meta_force\n",
      "'meta/summa_zLocalParamMeta.txt'    ! meta_localparam\n",
      "'meta/Model_Output.txt'    ! output_control\n",
      "'meta/summa_zLocalModelIndexMeta.txt'    ! meta_localindex\n",
      "'meta/summa_zBasinParamMeta.txt'    ! meta_basinparam\n",
      "'meta/summa_zBasinModelVarMeta.txt'    ! meta_basinmvar\n",
      "'summa_zLocalAttributes_riparianAspen.nc'    ! local_attributes\n",
      "'summa_zLocalParamInfo.txt'    ! local_param_info\n",
      "'summa_zBasinParamInfo.txt'    ! basin_param_info\n",
      "'summa_zForcingFileList_riparianAspen.txt'    ! forcing_file_list\n",
      "'summa_zInitialCond.nc'    ! model_init_cond\n",
      "'summa_zParamTrial_riparianAspen.nc'    ! parameter_trial\n",
      "'vegImpactsTranspire'    ! output_prefix\n"
     ]
    }
   ],
   "source": [
    "from pysumma import Simulation\n",
    "\n",
    "# path to the SUMMA filemanager file on Jupyter\n",
    "file_manager = os.path.join(model_source_folder_path, file_manger_rel_path)\n",
    "\n",
    "# Create pySUMMA Simulation Object\n",
    "executable = \"\"\n",
    "S = Simulation(executable, file_manager)\n",
    "\n",
    "# Configure the model\n",
    "S.decisions['simulStart'].value = \"2006-07-01 00:00\"\n",
    "S.decisions['simulFinsh'].value = \"2007-08-20 00:00\"\n",
    "S.decisions['stomResist'].value = 'BallBerry'\n",
    "# Save configiuration to disk\n",
    "S._write_configuration()\n",
    "print(S)"
   ]
  },
  {
   "cell_type": "markdown",
   "metadata": {},
   "source": [
    "### Submit model to HPC resources using CyberGIS-Jupyter tool"
   ]
  },
  {
   "cell_type": "code",
   "execution_count": 5,
   "metadata": {},
   "outputs": [],
   "source": [
    "from cybergis.general import summaUI\n",
    "local_workspace_path = os.path.abspath(\"./workspace\")\n",
    "! mkdir -p {local_workspace_path}\n",
    "\n",
    "s = summaUI(model_source_folder_path, file_manger_rel_path, local_workspace_path, username=\"my_username\", machine=\"Comet\", user_pw=\"my_password\")\n",
    "\n",
    "\n"
   ]
  },
  {
   "cell_type": "code",
   "execution_count": 6,
   "metadata": {},
   "outputs": [
    {
     "data": {
      "application/vnd.jupyter.widget-view+json": {
       "model_id": "b3db03d73f2c4531b1ce8d479409b227",
       "version_major": 2,
       "version_minor": 0
      },
      "text/plain": [
       "VBox(children=(Box(children=(HTML(value='<h1>Welcome to Summa General Case</h1>'),), layout=Layout(align_items…"
      ]
     },
     "metadata": {},
     "output_type": "display_data"
    },
    {
     "name": "stderr",
     "output_type": "stream",
     "text": [
      "2019-10-21 20:22:36,757 SSH logged into comet.sdsc.edu as user flu8\n",
      "2019-10-21 20:22:36,767 Uploading /home/jovyan/work/workspace/Summa_1571689354_8ec0b390 to /home/flu8\n",
      "2019-10-21 20:22:40,937 Submitting Job sbatch.sh to queue\n",
      "2019-10-21 20:22:45,402 Q\n",
      "2019-10-21 20:22:49,238 R\n",
      "2019-10-21 20:22:52,962 R\n",
      "2019-10-21 20:22:56,618 R\n",
      "2019-10-21 20:23:00,332 R\n",
      "2019-10-21 20:23:04,033 U\n",
      "2019-10-21 20:23:08,017 U\n",
      "2019-10-21 20:23:11,690 Job completed: Summa_1571689354_8ec0b390; 27517697\n",
      "2019-10-21 20:23:11,692 Downloading /home/flu8/Summa_1571689354_8ec0b390/SummaModel_ReynoldsAspenStand_StomatalResistance_sopron/output to /home/jovyan/work/workspace/Summa_1571689354_8ec0b390\n",
      "2019-10-21 20:23:15,479 Downloading /home/flu8/Summa_1571689354_8ec0b390/SummaModel_ReynoldsAspenStand_StomatalResistance_sopron/slurm-27517697.out to /home/jovyan/work/workspace/Summa_1571689354_8ec0b390\n",
      "2019-10-21 20:23:15,798 Done\n"
     ]
    }
   ],
   "source": [
    "s.runSumma()"
   ]
  },
  {
   "cell_type": "markdown",
   "metadata": {},
   "source": [
    "### Visualization"
   ]
  },
  {
   "cell_type": "code",
   "execution_count": 7,
   "metadata": {},
   "outputs": [
    {
     "name": "stdout",
     "output_type": "stream",
     "text": [
      "/home/jovyan/work/workspace/Summa_1571689354_8ec0b390/output/vegImpactsTranspire_output_test_timestep.nc\n"
     ]
    }
   ],
   "source": [
    "summa_output = os.path.join(local_workspace_path, \n",
    "                            \"{}/output\".format(s.job_local_id), \n",
    "                            \"vegImpactsTranspire_output_test_timestep.nc\")\n",
    "print(summa_output)"
   ]
  },
  {
   "cell_type": "code",
   "execution_count": 8,
   "metadata": {},
   "outputs": [
    {
     "data": {
      "text/plain": [
       "<xarray.Dataset>\n",
       "Dimensions:                    (gru: 1, hru: 1, ifcSoil: 9, ifcToto: 14, midSoil: 8, midToto: 13, time: 9961)\n",
       "Coordinates:\n",
       "  * time                       (time) datetime64[ns] 2006-07-01 ... 2007-08-20\n",
       "  * hru                        (hru) int32 1\n",
       "Dimensions without coordinates: gru, ifcSoil, ifcToto, midSoil, midToto\n",
       "Data variables:\n",
       "    pptrate                    (time, hru) float64 ...\n",
       "    airtemp                    (time, hru) float64 ...\n",
       "    hruId                      (hru) int32 ...\n",
       "    basin__SurfaceRunoff       (time, gru) float64 ...\n",
       "    basin__ColumnOutflow       (time, gru) float64 ...\n",
       "    basin__AquiferStorage      (time, gru) float64 ...\n",
       "    basin__AquiferRecharge     (time, gru) float64 ...\n",
       "    basin__AquiferBaseflow     (time, gru) float64 ...\n",
       "    basin__AquiferTranspire    (time, gru) float64 ...\n",
       "    averageInstantRunoff       (time, gru) float64 ...\n",
       "    averageRoutedRunoff        (time, gru) float64 ...\n",
       "    nSnow                      (time, hru) int32 ...\n",
       "    nSoil                      (time, hru) int32 ...\n",
       "    nLayers                    (time, hru) int32 ...\n",
       "    scalarSWE                  (time, hru) float64 ...\n",
       "    mLayerTemp                 (time, midToto, hru) float64 ...\n",
       "    mLayerVolFracIce           (time, midToto, hru) float64 ...\n",
       "    mLayerVolFracLiq           (time, midToto, hru) float64 ...\n",
       "    mLayerVolFracWat           (time, midToto, hru) float64 ...\n",
       "    mLayerMatricHead           (time, midSoil, hru) float64 ...\n",
       "    scalarSurfaceTemp          (time, hru) float64 ...\n",
       "    mLayerDepth                (time, midToto, hru) float64 ...\n",
       "    iLayerHeight               (time, ifcToto, hru) float64 ...\n",
       "    scalarSenHeatTotal         (time, hru) float64 ...\n",
       "    scalarLatHeatTotal         (time, hru) float64 ...\n",
       "    scalarSnowSublimation      (time, hru) float64 ...\n",
       "    scalarCanopyTranspiration  (time, hru) float64 ...\n",
       "    scalarCanopyEvaporation    (time, hru) float64 ...\n",
       "    scalarGroundEvaporation    (time, hru) float64 ...\n",
       "    scalarThroughfallSnow      (time, hru) float64 ...\n",
       "    scalarThroughfallRain      (time, hru) float64 ...\n",
       "    scalarRainPlusMelt         (time, hru) float64 ...\n",
       "    scalarInfiltration         (time, hru) float64 ...\n",
       "    scalarExfiltration         (time, hru) float64 ...\n",
       "    scalarSurfaceRunoff        (time, hru) float64 ...\n",
       "    iLayerLiqFluxSoil          (time, ifcSoil, hru) float64 ...\n",
       "    mLayerLiqFluxSoil          (time, midSoil, hru) float64 ...\n",
       "Attributes:\n",
       "    summaVersion:     v2.0.0\n",
       "    buildTime:        Fri Aug 30 16:04:07 UTC 2019\n",
       "    gitBranch:        sopron_2018-0-gf18270c\n",
       "    gitHash:          f18270c2ce5f2b5004c2b3e1799bd0969612bb68\n",
       "    soilStress:       NoahType\n",
       "    stomResist:       BallBerry\n",
       "    num_method:       itertive\n",
       "    fDerivMeth:       analytic\n",
       "    LAI_method:       specified\n",
       "    notPopulatedYet:  notPopulatedYet\n",
       "    f_Richards:       mixdform\n",
       "    groundwatr:       noXplict\n",
       "    hc_profile:       constant\n",
       "    bcUpprTdyn:       nrg_flux\n",
       "    bcLowrTdyn:       zeroFlux\n",
       "    bcUpprSoiH:       liq_flux\n",
       "    bcLowrSoiH:       drainage\n",
       "    veg_traits:       CM_QJRMS1988\n",
       "    canopyEmis:       difTrans\n",
       "    snowIncept:       lightSnow\n",
       "    windPrfile:       logBelowCanopy\n",
       "    astability:       louisinv\n",
       "    canopySrad:       BeersLaw\n",
       "    alb_method:       varDecay\n",
       "    snowLayers:       CLM_2010\n",
       "    compaction:       anderson\n",
       "    thCondSnow:       jrdn1991\n",
       "    thCondSoil:       mixConstit\n",
       "    spatial_gw:       localColumn\n",
       "    subRouting:       timeDlay"
      ]
     },
     "execution_count": 8,
     "metadata": {},
     "output_type": "execute_result"
    }
   ],
   "source": [
    "import xarray as xr\n",
    "output_info = xr.open_dataset(summa_output)\n",
    "output_info"
   ]
  },
  {
   "cell_type": "code",
   "execution_count": 9,
   "metadata": {},
   "outputs": [
    {
     "name": "stderr",
     "output_type": "stream",
     "text": [
      "/opt/conda/envs/hydro-py3-new/lib/python3.7/site-packages/pandas/plotting/_matplotlib/converter.py:103: FutureWarning: Using an implicitly registered datetime converter for a matplotlib plotting method. The converter was registered by pandas on import. Future versions of pandas will require you to explicitly register matplotlib converters.\n",
      "\n",
      "To register the converters:\n",
      "\t>>> from pandas.plotting import register_matplotlib_converters\n",
      "\t>>> register_matplotlib_converters()\n",
      "  warnings.warn(msg, FutureWarning)\n"
     ]
    },
    {
     "data": {
      "image/png": "[encoded data removed]",
      "text/plain": [
       "<Figure size 1080x360 with 1 Axes>"
      ]
     },
     "metadata": {
      "needs_background": "light"
     },
     "output_type": "display_data"
    }
   ],
   "source": [
    "import matplotlib.pyplot as plt\n",
    "x = output_info['time']\n",
    "y = (output_info['scalarCanopyTranspiration'] + \\\n",
    "     output_info['scalarCanopyEvaporation'] + \\\n",
    "     output_info['scalarGroundEvaporation'])*3600\n",
    "\n",
    "plt.figure(figsize=(15, 5))\n",
    "plt.plot(x, y, color='grey', linestyle='solid', markersize=0)\n",
    "\n",
    "    # Get the current axis of the plot and\n",
    "    # set the x and y-axis labels\n",
    "ax = plt.gca()\n",
    "ax.set_ylabel(\"Total ET (kg m-2 h-1)\")\n",
    "ax.set_xlabel('Date')\n",
    "ax.grid(True)\n",
    "\n",
    "ax.set_title('SUMMA Plot for Total ET')\n",
    "output_info.close()"
   ]
  },
  {
   "cell_type": "markdown",
   "metadata": {},
   "source": [
    "### Save results back to HydroShare (optional)"
   ]
  },
  {
   "cell_type": "code",
   "execution_count": 10,
   "metadata": {},
   "outputs": [],
   "source": [
    "from hs_restclient import HydroShare, HydroShareAuthOAuth2\n",
    "import json\n",
    "oauth = json.loads(os.environ[\"HS_AUTH\"])\n",
    "auth = HydroShareAuthOAuth2(oauth[1], \"\", token=oauth[0])\n",
    "hs = HydroShare(auth=auth)"
   ]
  },
  {
   "cell_type": "code",
   "execution_count": 11,
   "metadata": {},
   "outputs": [
    {
     "data": {
      "text/markdown": [
       "[https://www.hydroshare.org/resource/6d36f911f7804b91888904aae3375ddc/](https://www.hydroshare.org/resource/6d36f911f7804b91888904aae3375ddc/)"
      ],
      "text/plain": [
       "<IPython.core.display.Markdown object>"
      ]
     },
     "metadata": {},
     "output_type": "display_data"
    }
   ],
   "source": [
    "resource_id = hs.createResource(\"CompositeResource\", \"Summa results test\", resource_file=summa_output)\n",
    "from IPython.display import display, Markdown\n",
    "display(Markdown('[https://www.hydroshare.org/resource/{resource_id}/](https://www.hydroshare.org/resource/{resource_id}/)'.format(resource_id=resource_id)))"
   ]
  },
  {
   "cell_type": "markdown",
   "metadata": {},
   "source": [
    "### Done"
   ]
  }
 ],
 "metadata": {
  "kernelspec": {
   "display_name": "Hydro-Python3-new",
   "language": "python",
   "name": "hydro-py3-new"
  },
  "language_info": {
   "codemirror_mode": {
    "name": "ipython",
    "version": 3
   },
   "file_extension": ".py",
   "mimetype": "text/x-python",
   "name": "python",
   "nbconvert_exporter": "python",
   "pygments_lexer": "ipython3",
   "version": "3.7.3"
  }
 },
 "nbformat": 4,
 "nbformat_minor": 2
}
